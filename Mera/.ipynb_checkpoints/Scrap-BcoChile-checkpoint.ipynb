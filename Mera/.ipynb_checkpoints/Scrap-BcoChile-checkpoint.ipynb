{
 "cells": [
  {
   "cell_type": "code",
   "execution_count": 18,
   "metadata": {
    "collapsed": true
   },
   "outputs": [],
   "source": [
    "from selenium import webdriver\n",
    "from selenium.webdriver.firefox.options import Options\n",
    "from bs4 import BeautifulSoup\n",
    "import time\n",
    "\n",
    "opts = Options()\n",
    "opts.set_headless()\n",
    "assert opts.headless  # operating in headless mode\n",
    "\n",
    "link=\"https://login.bancochile.cl/bancochile-web/persona/login/index.html#/login\"\n",
    "\n",
    "#driver = webdriver.Firefox(executable_path='/usr/local/bin/geckodriver',options=opts)\n",
    "driver = webdriver.Firefox(executable_path='/usr/local/bin/geckodriver',options=opts)\n",
    "driver.set_page_load_timeout(30)\n",
    "driver.get(link)\n",
    "driver.maximize_window()\n",
    "driver.implicitly_wait(20)\n",
    "#driver.get_screenshot_as_file(\"Facebook.png\")\n",
    "driver.find_element_by_id('iduserName').send_keys('18.685.628-7')\n",
    "driver.find_element_by_name('userpassword').send_keys('')\n",
    "driver.find_element_by_class_name('success').click()\n",
    "#driver.get_screenshot_as_file(\"Fabook_login.png\")\n",
    "driver.implicitly_wait(20)\n",
    "\n",
    "\n",
    "#link_dolar='https://portalpersonas.bancochile.cl/mibancochile-web/front/persona/index.html#/compra_venta_dolares/compra_retiro_sucursal'\n",
    "#driver.get(link_dolar)\n",
    "driver.find_element_by_id('nivel1-43000').click()\n",
    "driver.implicitly_wait(20)\n",
    "#driver.get_screenshot_as_file(\"Compra_dolares.png\")\n",
    "driver.find_element_by_id('nivel2-43600').click()\n",
    "driver.implicitly_wait(20)\n",
    "driver.find_element_by_xpath(\"//a[@ui-sref=\\\"compra_retiro_sucursal\\\"]\").click();\n",
    "time.sleep(10)\n",
    "html = driver.page_source\n",
    "driver.implicitly_wait(30)\n",
    "#driver.find_element_by_class_name('row valor-dolar')\n",
    "#dolar = driver.find_element_by_class_name('ng-binding').text\n",
    "#driver.get_screenshot_as_file(\"Compra_dolares.png\")\n",
    "dolar = driver.find_element_by_xpath(\"//*[@class='row valor-dolar']\")\n",
    "dolar = dolar.find_element_by_class_name('ng-binding').text\n",
    "html = driver.page_source\n",
    "driver.quit()\n",
    "\n",
    "soup = BeautifulSoup(html)\n",
    "\n",
    "# data = driver.find_elements_by_tag_name('span')\n",
    "# print(data)\n"
   ]
  },
  {
   "cell_type": "code",
   "execution_count": 19,
   "metadata": {},
   "outputs": [
    {
     "name": "stdout",
     "output_type": "stream",
     "text": [
      "$611,40\n"
     ]
    }
   ],
   "source": [
    "import smtplib\n",
    " \n",
    "def sendemail(from_addr, to_addr_list, cc_addr_list,\n",
    "              subject, message,\n",
    "              login, password,\n",
    "              smtpserver='smtp.gmail.com:587'):\n",
    "    header  = 'From: %s' % from_addr\n",
    "    header += 'To: %s' % ','.join(to_addr_list)\n",
    "    header += 'Cc: %s\\n' % ','.join(cc_addr_list)\n",
    "    header += 'Subject: %s\\n\\n' % subject\n",
    "    message = header + message\n",
    "    print message\n",
    " \n",
    "    server = smtplib.SMTP(smtpserver)\n",
    "    server.starttls()\n",
    "    server.login(login,password)\n",
    "    problems = server.sendmail(from_addr, to_addr_list, message)\n",
    "    server.quit()\n",
    "if dolar < 605 :\n",
    "    sendemail(from_addr    = 'mb.us.94@gmail.com', \n",
    "          to_addr_list = ['meraulloa@udec.cl'],\n",
    "          cc_addr_list = [], \n",
    "          subject      = 'Valor Dolar Banco Chile', \n",
    "          message      = str(dolar), \n",
    "          login        = 'mb.us.94@gmail.com', \n",
    "          password     = '')"
   ]
  },
  {
   "cell_type": "code",
   "execution_count": null,
   "metadata": {
    "collapsed": true
   },
   "outputs": [],
   "source": []
  }
 ],
 "metadata": {
  "kernelspec": {
   "display_name": "Python 3",
   "language": "python",
   "name": "python3"
  },
  "language_info": {
   "codemirror_mode": {
    "name": "ipython",
    "version": 3
   },
   "file_extension": ".py",
   "mimetype": "text/x-python",
   "name": "python",
   "nbconvert_exporter": "python",
   "pygments_lexer": "ipython3",
   "version": "3.6.4"
  }
 },
 "nbformat": 4,
 "nbformat_minor": 2
}
