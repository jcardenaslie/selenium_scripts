{
 "cells": [
  {
   "cell_type": "code",
   "execution_count": 9,
   "metadata": {},
   "outputs": [],
   "source": [
    "from selenium.webdriver import Firefox\n",
    "from selenium.webdriver.firefox.options import Options\n",
    "path = \"C:/Users/jquin/Desktop/ScrapBanco\""
   ]
  },
  {
   "cell_type": "code",
   "execution_count": 12,
   "metadata": {},
   "outputs": [
    {
     "name": "stdout",
     "output_type": "stream",
     "text": [
      "0\n"
     ]
    }
   ],
   "source": [
    "opts = Options()\n",
    "opts.set_headless()\n",
    "assert opts.headless  # operating in headless mode\n",
    "browser = Firefox(path,options=opts)\n",
    "browser.get('https://duckduckgo.com')\n",
    "search_form = browser.find_element_by_id('search_form_input_homepage')\n",
    "search_form.send_keys('real python')\n",
    "search_form.submit()\n",
    "results = browser.find_elements_by_class_name('result')\n",
    "print(len(results))\n",
    "browser.close()\n",
    "quit()"
   ]
  },
  {
   "cell_type": "code",
   "execution_count": 11,
   "metadata": {},
   "outputs": [],
   "source": [
    "opts = Options()\n",
    "# opts.set_headless()\n",
    "browser = Firefox(path,options=opts)\n",
    "browser.get('https://bandcamp.com')\n",
    "browser.find_element_by_class_name('playbutton').click()"
   ]
  },
  {
   "cell_type": "code",
   "execution_count": 3,
   "metadata": {},
   "outputs": [],
   "source": [
    "primary_url = 'https://login.bancochile.cl/bancochile-web/persona/login/index.html#/login'\n",
    "proxies_req = Request(primary_url)\n",
    "proxies_doc = urlopen(proxies_req).read().decode('utf8')\n",
    "soup = BeautifulSoup(proxies_doc, 'html.parser')"
   ]
  },
  {
   "cell_type": "code",
   "execution_count": 4,
   "metadata": {},
   "outputs": [
    {
     "data": {
      "text/plain": [
       "<!DOCTYPE html>\n",
       "\n",
       "<html ng-app=\"WebBancoChile\" ng-controller=\"AppCtrl\">\n",
       "<head>\n",
       "<title ng-bind=\"pageTitle\"></title>\n",
       "<!-- social media tags -->\n",
       "<meta charset=\"utf-8\"/>\n",
       "<meta content=\"IE=edge\" http-equiv=\"X-UA-Compatible\"/>\n",
       "<!-- compiled CSS -->\n",
       "<link href=\"assets/cl.bancochile.canales.web-0.0.1-part-1.min.css\" rel=\"stylesheet\" type=\"text/css\"/>\n",
       "<link href=\"assets/cl.bancochile.canales.web-0.0.1-part-2.min.css\" rel=\"stylesheet\" type=\"text/css\"/>\n",
       "<link href=\"assets/cl.bancochile.canales.web-0.0.1-part-3.min.css\" rel=\"stylesheet\" type=\"text/css\"/>\n",
       "<link href=\"assets/cl.bancochile.canales.web-0.0.1-part-4.min.css\" rel=\"stylesheet\" type=\"text/css\"/>\n",
       "<!-- compiled JavaScript -->\n",
       "<script src=\"assets/cl.bancochile.canales.web-0.0.1.js\" type=\"text/javascript\"></script>\n",
       "<meta content=\"width=device-width, initial-scale=1, user-scalable=no\" name=\"viewport\"/>\n",
       "</head>\n",
       "<body>\n",
       "<!-- Google Tag Manager -->\n",
       "<noscript><iframe height=\"0\" src=\"//www.googletagmanager.com/ns.html?id=GTM-NNQ4N3\" style=\"display:none;visibility:hidden\" width=\"0\"></iframe></noscript>\n",
       "<script>(function(w,d,s,l,i){w[l]=w[l]||[];w[l].push({'gtm.start':\n",
       "        new Date().getTime(),event:'gtm.js'});var f=d.getElementsByTagName(s)[0],\n",
       "        j=d.createElement(s),dl=l!='dataLayer'?'&l='+l:'';j.async=true;j.src=\n",
       "        '//www.googletagmanager.com/gtm.js?id='+i+dl;f.parentNode.insertBefore(j,f);\n",
       "})(window,document,'script','dataLayer','GTM-NNQ4N3');</script>\n",
       "<!-- End Google Tag Manager -->\n",
       "<div ng-show=\"isVisible()\" ui-view=\"header\"></div>\n",
       "<div ui-view=\"main\"></div>\n",
       "<div ng-show=\"isVisible()\" ui-view=\"footer\"></div>\n",
       "</body></html>\n",
       "\n"
      ]
     },
     "execution_count": 4,
     "metadata": {},
     "output_type": "execute_result"
    }
   ],
   "source": [
    "soup"
   ]
  },
  {
   "cell_type": "code",
   "execution_count": null,
   "metadata": {},
   "outputs": [],
   "source": [
    "#bajar https://github.com/mozilla/geckodriver/releases"
   ]
  },
  {
   "cell_type": "code",
   "execution_count": 1,
   "metadata": {},
   "outputs": [
    {
     "name": "stderr",
     "output_type": "stream",
     "text": [
      "C:\\ProgramData\\Anaconda3\\lib\\site-packages\\bs4\\__init__.py:181: UserWarning: No parser was explicitly specified, so I'm using the best available HTML parser for this system (\"lxml\"). This usually isn't a problem, but if you run this code on another system, or in a different virtual environment, it may use a different parser and behave differently.\n",
      "\n",
      "The code that caused this warning is on line 193 of the file C:\\ProgramData\\Anaconda3\\lib\\runpy.py. To get rid of this warning, change code that looks like this:\n",
      "\n",
      " BeautifulSoup(YOUR_MARKUP})\n",
      "\n",
      "to this:\n",
      "\n",
      " BeautifulSoup(YOUR_MARKUP, \"lxml\")\n",
      "\n",
      "  markup_type=markup_type))\n"
     ]
    }
   ],
   "source": [
    "from selenium import webdriver\n",
    "from selenium.webdriver.firefox.options import Options\n",
    "from bs4 import BeautifulSoup\n",
    "\n",
    "path = \"C:/Users/jquin/Desktop/ScrapBanco\"\n",
    "\n",
    "opts = Options()\n",
    "opts.set_headless()\n",
    "assert opts.headless  # operating in headless mode\n",
    "\n",
    "link=\"https://login.bancochile.cl/bancochile-web/persona/login/index.html#/login\"\n",
    "\n",
    "driver = webdriver.Firefox(path)\n",
    "driver.set_page_load_timeout(30)\n",
    "driver.get(link)\n",
    "driver.maximize_window()\n",
    "driver.implicitly_wait(20)\n",
    "driver.get_screenshot_as_file(\"Facebook.png\")\n",
    "driver.find_element_by_id('iduserName').send_keys('18.144.836-9')\n",
    "driver.find_element_by_name('userpassword').send_keys()\n",
    "driver.find_element_by_class_name('success').click()\n",
    "driver.get_screenshot_as_file(\"Fabook_login.png\")\n",
    "\n",
    "html = driver.page_source\n",
    "driver.quit()\n",
    "\n",
    "soup = BeautifulSoup(html)\n",
    "\n",
    "# data = driver.find_elements_by_tag_name('span')\n",
    "# print(data)\n"
   ]
  },
  {
   "cell_type": "code",
   "execution_count": 2,
   "metadata": {},
   "outputs": [
    {
     "name": "stdout",
     "output_type": "stream",
     "text": [
      "['UF:', 'Dólar:', 'UTM:', 'Euro:', 'IVP:']\n",
      "['26.966,89', '603,39', '47.301,00', '741,90', '28.077,75']\n"
     ]
    }
   ],
   "source": [
    "indicadores_economicos_data = soup.find_all('span',class_='pull-right ng-binding')\n",
    "indicadores_economicos_names = soup.find_all('span',class_='nombre-indicador ng-binding')\n",
    "\n",
    "indicadores_economicos_data = [x.text for x in indicadores_economicos_data ]\n",
    "indicadores_economicos_names = [x.text for x in indicadores_economicos_names ]\n",
    "\n",
    "print(indicadores_economicos_names)\n",
    "print(indicadores_economicos_data)"
   ]
  }
 ],
 "metadata": {
  "kernelspec": {
   "display_name": "Python 3",
   "language": "python",
   "name": "python3"
  },
  "language_info": {
   "codemirror_mode": {
    "name": "ipython",
    "version": 3
   },
   "file_extension": ".py",
   "mimetype": "text/x-python",
   "name": "python",
   "nbconvert_exporter": "python",
   "pygments_lexer": "ipython3",
   "version": "3.6.4"
  }
 },
 "nbformat": 4,
 "nbformat_minor": 2
}
